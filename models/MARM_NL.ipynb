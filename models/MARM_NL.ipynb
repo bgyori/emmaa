{
 "cells": [
  {
   "cell_type": "code",
   "execution_count": 14,
   "metadata": {},
   "outputs": [],
   "source": [
    "import networkx as nx\n",
    "from IPython.display import Image\n",
    "from IPython.core.display import HTML \n",
    "import kappy\n",
    "from pysb.export import export\n",
    "from indra.sources import trips\n",
    "from indra.assemblers.pysb import PysbAssembler\n",
    "from indra.assemblers.pysb.kappa_util import im_json_to_graph\n",
    "from indra.explanation.model_checker import remove_im_params"
   ]
  },
  {
   "cell_type": "code",
   "execution_count": 15,
   "metadata": {},
   "outputs": [],
   "source": [
    "def make_im(model):\n",
    "        kappa = kappy.KappaStd()\n",
    "        model_str = export(model, 'kappa')\n",
    "        kappa.add_model_string(model_str)\n",
    "        kappa.project_parse()\n",
    "        imap = kappa.analyses_influence_map()\n",
    "        graph = im_json_to_graph(imap)\n",
    "        im_pgv = nx.nx_agraph.to_agraph(graph)\n",
    "        return im_pgv"
   ]
  },
  {
   "cell_type": "code",
   "execution_count": 38,
   "metadata": {},
   "outputs": [],
   "source": [
    "sentences = [\n",
    "    # EGF->EGFR->GRB2->SOS1-> KRAS\n",
    "    'EGF binds EGFR.',\n",
    "    'EGFR bound to EGF binds EGFR.',\n",
    "    'EGFR bound to EGFR binds GRB2.',\n",
    "    'EGFR bound to GRB2 is degraded.',\n",
    "    # SPRY4/SOS1 bind competitively to GRB2 on its SH3 site\n",
    "    # Doesn't work:\n",
    "    # -'SPRY4 binds GRB2 not bound to SOS1.',\n",
    "    # -'Unphosphorylated SOS1 binds GRB2 not bound to SPRY4.',\n",
    "    # -'SOS1 bound to GRB2 bound to EGFR activates KRAS.',\n",
    "    # Alternative that leaves out SPRY4:\n",
    "    'GRB2 bound to EGFR is active.',\n",
    "    'SOS1 binds active GRB2.',\n",
    "    'SOS1 bound to GRB2 activates KRAS.',\n",
    "    # KRAS->CRAF/BRAF\n",
    "    'Active KRAS binds BRAF and RAF1.',\n",
    "    'BRAF bound to KRAS binds BRAF and RAF1.',\n",
    "    'RAF1 bound to KRAS binds BRAF.',\n",
    "    'Vemurafenib binds BRAF and RAF1.',\n",
    "    'The BRAF-BRAF complex not bound to vemurafenib is active.',\n",
    "    'The BRAF-RAF1 complex not bound to vemurafenib is active.',\n",
    "    'The RAF1-BRAF complex not bound to vemurafenib is active.',    \n",
    "    'BRAF V600E not bound to vemurafenib is active.',\n",
    "    'Active BRAF phosphorylates MAP2K1.',\n",
    "    'Active RAF1 phosphorylates MAP2K1.',\n",
    "    'Phosphorylated MAP2K1 is active.',\n",
    "    # MEK, DUSP-> ERK\n",
    "    # Doesn't work:\n",
    "    # - 'Selumetinib binds MAP2K1.',\n",
    "    # - 'Phosphorylated MAP2K1 not bound to selumetinib phosphorylates MAPK1.'\n",
    "    'Active MAP2K1 phosphorylates MAPK1.',\n",
    "    'DUSP6 dephosphorylates MAPK1.',\n",
    "    'Phosphorylated MAPK1 is active.',\n",
    "    'Active MAPK1 increases DUSP6, EGFR, and SPRY4.',\n",
    "]"
   ]
  },
  {
   "cell_type": "code",
   "execution_count": 39,
   "metadata": {},
   "outputs": [],
   "source": [
    "#s = 'GRB2 bound to EGFR and not bound to SPRY4 is active.'\n",
    "#tp = trips.process_text(s, service_endpoint='drum-dev')\n",
    "#tp.statements"
   ]
  },
  {
   "cell_type": "code",
   "execution_count": 40,
   "metadata": {},
   "outputs": [
    {
     "name": "stdout",
     "output_type": "stream",
     "text": [
      "Processing 'EGF binds EGFR.'\n",
      "Processing 'EGFR bound to EGF binds EGFR.'\n",
      "Processing 'EGFR bound to EGFR binds GRB2.'\n",
      "Processing 'EGFR bound to GRB2 is degraded.'\n",
      "Processing 'GRB2 bound to EGFR is active.'\n",
      "Processing 'SOS1 binds active GRB2.'\n",
      "Processing 'SOS1 bound to GRB2 activates KRAS.'\n",
      "Processing 'Active KRAS binds BRAF and RAF1.'\n",
      "Processing 'BRAF bound to KRAS binds BRAF and RAF1.'\n",
      "Processing 'RAF1 bound to KRAS binds BRAF.'\n",
      "Processing 'Vemurafenib binds BRAF and RAF1.'\n",
      "Processing 'The BRAF-BRAF complex not bound to vemurafenib is active.'\n",
      "Processing 'The BRAF-RAF1 complex not bound to vemurafenib is active.'\n",
      "Processing 'The RAF1-BRAF complex not bound to vemurafenib is active.'\n",
      "Processing 'BRAF V600E not bound to vemurafenib is active.'\n",
      "Processing 'Active BRAF phosphorylates MAP2K1.'\n",
      "Processing 'Active RAF1 phosphorylates MAP2K1.'\n",
      "Processing 'Phosphorylated MAP2K1 is active.'\n",
      "Processing 'Active MAP2K1 phosphorylates MAPK1.'\n",
      "Processing 'DUSP6 dephosphorylates MAPK1.'\n",
      "Processing 'Phosphorylated MAPK1 is active.'\n",
      "Processing 'Active MAPK1 increases DUSP6, EGFR, and SPRY4.'\n"
     ]
    }
   ],
   "source": [
    "statements = []\n",
    "for sentence in sentences:\n",
    "    print(\"Processing '%s'\" % sentence)\n",
    "    tp = trips.process_text(sentence, service_endpoint='drum-dev')\n",
    "    statements += tp.statements"
   ]
  },
  {
   "cell_type": "code",
   "execution_count": 41,
   "metadata": {},
   "outputs": [
    {
     "data": {
      "text/plain": [
       "[Complex(EGF(), EGFR()),\n",
       " Complex(EGFR(bound: [EGF, True]), EGFR()),\n",
       " Complex(EGFR(bound: [EGFR, True]), GRB2()),\n",
       " DecreaseAmount(None, EGFR(bound: [GRB2, True])),\n",
       " ActiveForm(GRB2(bound: [EGFR, True]), activity, True),\n",
       " Complex(SOS1(), GRB2(activity)),\n",
       " Activation(SOS1(bound: [GRB2, True]), KRAS()),\n",
       " Complex(KRAS(activity), BRAF()),\n",
       " Complex(KRAS(activity), RAF1()),\n",
       " Complex(BRAF(bound: [KRAS, True]), BRAF()),\n",
       " Complex(BRAF(bound: [KRAS, True]), RAF1()),\n",
       " Complex(RAF1(bound: [KRAS, True]), BRAF()),\n",
       " Complex(VEMURAFENIB(), BRAF()),\n",
       " Complex(VEMURAFENIB(), RAF1()),\n",
       " ActiveForm(BRAF(bound: [BRAF, True], bound: [VEMURAFENIB, False]), activity, True),\n",
       " ActiveForm(BRAF(bound: [RAF1, True], bound: [VEMURAFENIB, False]), activity, True),\n",
       " ActiveForm(RAF1(bound: [BRAF, True], bound: [VEMURAFENIB, False]), activity, True),\n",
       " ActiveForm(BRAF(muts: (V, 600, E), bound: [VEMURAFENIB, False]), activity, True),\n",
       " Phosphorylation(BRAF(activity), MAP2K1()),\n",
       " Phosphorylation(RAF1(activity), MAP2K1()),\n",
       " ActiveForm(MAP2K1(mods: (phosphorylation)), activity, True),\n",
       " Phosphorylation(MAP2K1(activity), MAPK1()),\n",
       " Dephosphorylation(DUSP6(), MAPK1()),\n",
       " ActiveForm(MAPK1(mods: (phosphorylation)), activity, True),\n",
       " IncreaseAmount(MAPK1(activity), SPRY4()),\n",
       " IncreaseAmount(MAPK1(activity), DUSP6()),\n",
       " IncreaseAmount(MAPK1(activity), EGFR())]"
      ]
     },
     "execution_count": 41,
     "metadata": {},
     "output_type": "execute_result"
    }
   ],
   "source": [
    "statements"
   ]
  },
  {
   "cell_type": "code",
   "execution_count": 42,
   "metadata": {},
   "outputs": [
    {
     "name": "stderr",
     "output_type": "stream",
     "text": [
      "INFO: [2019-06-05 16:49:48] indra.assemblers.pysb.assembler - Using two_step assembly policy.\n"
     ]
    },
    {
     "data": {
      "text/plain": [
       "<Model 'indra_model' (monomers: 12, rules: 44, parameters: 57, expressions: 0, compartments: 0) at 0x1349eac88>"
      ]
     },
     "execution_count": 42,
     "metadata": {},
     "output_type": "execute_result"
    }
   ],
   "source": [
    "pa = PysbAssembler(statements)\n",
    "pa.make_model('two_step')"
   ]
  },
  {
   "cell_type": "code",
   "execution_count": 43,
   "metadata": {},
   "outputs": [],
   "source": [
    "im = make_im(pa.model)\n",
    "remove_im_params(pa.model, im)\n",
    "im.draw('egf.png', prog='dot')"
   ]
  },
  {
   "cell_type": "code",
   "execution_count": 44,
   "metadata": {},
   "outputs": [
    {
     "data": {
      "text/html": [
       "<img src=\"./egf.png\" width=\"400\" class=\"unconfined\"/>"
      ],
      "text/plain": [
       "<IPython.core.display.Image object>"
      ]
     },
     "execution_count": 44,
     "metadata": {},
     "output_type": "execute_result"
    }
   ],
   "source": [
    "Image(url=\"./egf.png\", width=400, unconfined=True)"
   ]
  },
  {
   "cell_type": "code",
   "execution_count": 45,
   "metadata": {},
   "outputs": [
    {
     "name": "stderr",
     "output_type": "stream",
     "text": [
      "INFO: [2019-06-05 16:49:55] indra.tools.assemble_corpus - Dumping 27 statements into marm_model_stmts.pkl...\n"
     ]
    }
   ],
   "source": [
    "from indra.tools import assemble_corpus as ac\n",
    "ac.dump_statements(statements, 'marm_model_stmts.pkl')"
   ]
  },
  {
   "cell_type": "code",
   "execution_count": null,
   "metadata": {},
   "outputs": [],
   "source": []
  }
 ],
 "metadata": {
  "kernelspec": {
   "display_name": "Python 3",
   "language": "python",
   "name": "python3"
  },
  "language_info": {
   "codemirror_mode": {
    "name": "ipython",
    "version": 3
   },
   "file_extension": ".py",
   "mimetype": "text/x-python",
   "name": "python",
   "nbconvert_exporter": "python",
   "pygments_lexer": "ipython3",
   "version": "3.6.8"
  }
 },
 "nbformat": 4,
 "nbformat_minor": 2
}
